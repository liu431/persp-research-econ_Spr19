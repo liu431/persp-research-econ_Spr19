{
 "cells": [
  {
   "cell_type": "markdown",
   "metadata": {},
   "source": [
    "### PS3\n",
    "\n",
    "Li Liu\n",
    "\n",
    "5/24/19\n"
   ]
  },
  {
   "cell_type": "code",
   "execution_count": 157,
   "metadata": {
    "collapsed": true
   },
   "outputs": [],
   "source": [
    "import numpy as np\n",
    "import pandas as pd\n",
    "import scipy.optimize as opt\n",
    "import matplotlib.pyplot as plt\n",
    "import time"
   ]
  },
  {
   "cell_type": "markdown",
   "metadata": {},
   "source": [
    "#### Ex 2.1"
   ]
  },
  {
   "cell_type": "code",
   "execution_count": 158,
   "metadata": {
    "collapsed": true
   },
   "outputs": [],
   "source": [
    "A = 1 #productivity scale parameter\n",
    "alpha = 0.35 #capital share of income\n",
    "beta = 0.442 #20-year discount factor\n",
    "delta = 0.6415 # 20-year depreciation rate\n",
    "sigma = 3 #relative risk aversion\n",
    "labor = np.array([1, 1, 0.2]) #labor supply of three periods\n",
    "SS_tol = 1e-9 #error tolerance\n",
    "f_params = (labor, A, alpha, delta) #tuple of input parameters"
   ]
  },
  {
   "cell_type": "code",
   "execution_count": 159,
   "metadata": {},
   "outputs": [],
   "source": [
    "get_r = lambda K, L, alpha, delta, A : A * alpha * ((L / K) ** (1 - alpha)) - delta\n",
    "get_w = lambda K, L, alpha, A: A * (1 - alpha) * ((K / L) ** alpha)\n",
    "get_K = lambda b2, b3: b2+b3\n",
    "get_cons = lambda b_s, b_s_1, n_s, r, w: w * n_s + (1 + r) * b_s - b_s_1\n",
    "get_util = lambda c, sigma=3: (c ** (1-sigma))/(1-sigma)\n",
    "get_MU = lambda c, sigma=3: c ** (-sigma)\n",
    "get_Y = lambda K, L, alpha, A: A * (K ** alpha) * (L ** (1-alpha))"
   ]
  },
  {
   "cell_type": "code",
   "execution_count": 160,
   "metadata": {
    "collapsed": true
   },
   "outputs": [],
   "source": [
    "def feasible(f_params, bvec_guess):\n",
    "    labor, A, alpha, delta = f_params\n",
    "    b2, b3 = bvec_guess\n",
    "    K = b2 + b3\n",
    "    L = np.sum(labor)\n",
    "    r = get_r(K, L, alpha, delta, A)\n",
    "    w = get_w(K, L, alpha, A)\n",
    "    \n",
    "    c1 = get_cons(0, b2, labor[0], r, w)\n",
    "    c2 = get_cons(b2, b3, labor[1], r, w)\n",
    "    c3 = get_cons(b3, 0, labor[2], r, w)\n",
    "    \n",
    "    b_cnstr = np.zeros(2, dtype = 'bool')\n",
    "    c_cnstr = np.zeros(3, dtype = 'bool')\n",
    "    K_cnstr = ((b2 + b3)<=0)\n",
    "    \n",
    "    c_cnstr[0], c_cnstr[1], c_cnstr[2] = (c1<=0), (c2<=0), (c3<=0)\n",
    "    \n",
    "    if c_cnstr[0]:\n",
    "        b_cnstr[0] = 1\n",
    "    if c_cnstr[1]:\n",
    "        b_cnstr[0], b_cnstr[1] = 1, 1\n",
    "    if c_cnstr[2]:\n",
    "        b_cnstr[1] = 1\n",
    "        \n",
    "    return b_cnstr, c_cnstr, K_cnstr"
   ]
  },
  {
   "cell_type": "markdown",
   "metadata": {},
   "source": [
    "##### a. the constraints in period 1 is violated"
   ]
  },
  {
   "cell_type": "code",
   "execution_count": 161,
   "metadata": {},
   "outputs": [
    {
     "name": "stdout",
     "output_type": "stream",
     "text": [
      "b_cnstr: [ True False]\n",
      "c_cnstr: [ True False False]\n",
      "K_cnstr: False\n"
     ]
    }
   ],
   "source": [
    "bvec_guess = np.array([1.0, 1.2])\n",
    "b_cnstr, c_cnstr, K_cnstr = feasible(f_params, bvec_guess)\n",
    "print(\"b_cnstr:\", b_cnstr)\n",
    "print(\"c_cnstr:\", c_cnstr)\n",
    "print(\"K_cnstr:\", K_cnstr)"
   ]
  },
  {
   "cell_type": "markdown",
   "metadata": {},
   "source": [
    "##### b. no constraint is violated"
   ]
  },
  {
   "cell_type": "code",
   "execution_count": 162,
   "metadata": {},
   "outputs": [
    {
     "name": "stdout",
     "output_type": "stream",
     "text": [
      "b_cnstr: [False False]\n",
      "c_cnstr: [False False False]\n",
      "K_cnstr: False\n"
     ]
    }
   ],
   "source": [
    "bvec_guess = np.array([0.06, -0.001])\n",
    "b_cnstr, c_cnstr, K_cnstr = feasible(f_params, bvec_guess)\n",
    "print(\"b_cnstr:\", b_cnstr)\n",
    "print(\"c_cnstr:\", c_cnstr)\n",
    "print(\"K_cnstr:\", K_cnstr)"
   ]
  },
  {
   "cell_type": "markdown",
   "metadata": {},
   "source": [
    "##### c. no constraint is violated"
   ]
  },
  {
   "cell_type": "code",
   "execution_count": 163,
   "metadata": {},
   "outputs": [
    {
     "name": "stdout",
     "output_type": "stream",
     "text": [
      "b_cnstr: [False False]\n",
      "c_cnstr: [False False False]\n",
      "K_cnstr: False\n"
     ]
    }
   ],
   "source": [
    "bvec_guess = np.array([0.1, 0.1])\n",
    "b_cnstr, c_cnstr, K_cnstr = feasible(f_params, bvec_guess)\n",
    "print(\"b_cnstr:\", b_cnstr)\n",
    "print(\"c_cnstr:\", c_cnstr)\n",
    "print(\"K_cnstr:\", K_cnstr)"
   ]
  },
  {
   "cell_type": "markdown",
   "metadata": {},
   "source": [
    "#### Ex 2.2"
   ]
  },
  {
   "cell_type": "code",
   "execution_count": 164,
   "metadata": {
    "collapsed": true
   },
   "outputs": [],
   "source": [
    "def EulEqs(bvec, f_params):\n",
    "    labor, A, alpha, delta, beta = f_params\n",
    "    b2, b3 = bvec\n",
    "    L = labor.sum()\n",
    "    K = get_K(b2, b3)\n",
    "    r = get_r(K, L, alpha, delta, A)\n",
    "    w = get_w(K, L, alpha, A)\n",
    "    c1 = get_cons(0, b2, labor[0], r, w)\n",
    "    c2 = get_cons(b2, b3, labor[1], r, w)\n",
    "    c3 = get_cons(b3, 0, labor[2], r, w)\n",
    "    MU1, MU2, MU3 = get_MU(c1), get_MU(c2), get_MU(c3)\n",
    "    Eul1 = MU1 - beta*(1+r) * MU2\n",
    "    Eul2 = MU2 - beta*(1+r) * MU3\n",
    "    return np.array([Eul1, Eul2])"
   ]
  },
  {
   "cell_type": "code",
   "execution_count": 165,
   "metadata": {
    "collapsed": true
   },
   "outputs": [],
   "source": [
    "def get_SS(params, bvec_guess, SS_graphs = False):\n",
    "    start_time = time.clock()\n",
    "    beta, sigma, labor, L, A, alpha, delta, SS_tol = params\n",
    "    f_params = np.array([labor, A, alpha, delta, beta])\n",
    "    b_ss = opt.root(EulEqs, bvec_guess, args = (f_params)).x\n",
    "    b2, b3 = b_ss\n",
    "    K_ss = get_K(b2, b3)\n",
    "    r_ss = get_r(K_ss, L, alpha, delta, A)\n",
    "    Y_ss = get_Y(K_ss, L, alpha, A)\n",
    "    w_ss = get_w(K_ss, L, alpha, A)\n",
    "    c1 = get_cons(0, b2, labor[0], r_ss, w_ss)\n",
    "    c2 = get_cons(b2, b3, labor[1], r_ss, w_ss)\n",
    "    c3 = get_cons(b3, 0, labor[2], r_ss, w_ss)\n",
    "    c_ss = np.array([c1, c2, c3])\n",
    "    C_ss = c_ss.sum()\n",
    "    EulErr_ss = EulEqs(b_ss, f_params)\n",
    "    RCerr_ss = Y_ss - C_ss - delta * K_ss\n",
    "    ss_time = time.clock() - start_time\n",
    "    ss_output = {\n",
    "    'b_ss': b_ss, 'c_ss': c_ss, 'w_ss': w_ss, 'r_ss': r_ss,\n",
    "    'K_ss': K_ss, 'Y_ss': Y_ss, 'C_ss': C_ss,\n",
    "    'EulErr_ss': EulErr_ss, 'RCerr_ss': RCerr_ss,\n",
    "    'ss_time': ss_time}\n",
    "    \n",
    "    if SS_graphs:\n",
    "        plt.style.use('ggplot')\n",
    "        fig, ax = plt.subplots()\n",
    "        ax.plot(np.arange(1,4), c_ss, marker = 'o', label = 'consumptions')\n",
    "        ax.plot(np.arange(2,4), b_ss, marker = 'o', label = 'savings')\n",
    "        ax.legend()\n",
    "        ax.set_title('Steady-state Distribution of Consumptions and Savings by Age')\n",
    "        plt.show()\n",
    "        \n",
    "    return ss_output"
   ]
  },
  {
   "cell_type": "markdown",
   "metadata": {},
   "source": [
    "#### a. solve for equilibrium values"
   ]
  },
  {
   "cell_type": "code",
   "execution_count": 166,
   "metadata": {},
   "outputs": [],
   "source": [
    "params = [beta, sigma, labor, labor.sum(), A, alpha, delta, SS_tol]\n",
    "bvec_guess = np.array([0.1, 0.1])\n",
    "ss_output = get_SS(params, bvec_guess)"
   ]
  },
  {
   "cell_type": "code",
   "execution_count": 167,
   "metadata": {},
   "outputs": [
    {
     "name": "stdout",
     "output_type": "stream",
     "text": [
      "Steady-state equilibrium values for savings are [0.01931253 0.0584111 ]\n",
      "Steady-state equilibrium values for consumptions are [0.18241213 0.20961468 0.24087387]\n",
      "Steady-state equilibrium value for wage is 0.20172465739052575\n",
      "Steady-state equilibrium value for interest rate is 2.433062339127069\n",
      "Steady-state equilibrium value for capital is 0.07772362575316386\n",
      "Steady-state equilibrium value for output is 0.6827603788602411\n",
      "Steady-state equilibrium value for total consumption is 0.6329006729395864\n",
      "Steady-state equilibrium values for Euler errors are [-1.39266376e-12  2.62900812e-12]\n",
      "Steady-state equilibrium value for resource constraint error is 8.326672684688674e-17\n",
      "\n",
      "Time to compute steady-state equilibrium is 0.014976 seconds\n"
     ]
    }
   ],
   "source": [
    "print('Steady-state equilibrium values for savings are',ss_output['b_ss'])\n",
    "print('Steady-state equilibrium values for consumptions are',ss_output['c_ss'])\n",
    "print('Steady-state equilibrium value for wage is',ss_output['w_ss'])\n",
    "print('Steady-state equilibrium value for interest rate is',ss_output['r_ss'])\n",
    "print('Steady-state equilibrium value for capital is',ss_output['K_ss'])\n",
    "print('Steady-state equilibrium value for output is',ss_output['Y_ss'])\n",
    "print('Steady-state equilibrium value for total consumption is',ss_output['C_ss'])\n",
    "print('Steady-state equilibrium values for Euler errors are',ss_output['EulErr_ss'])\n",
    "print('Steady-state equilibrium value for resource constraint error is',ss_output['RCerr_ss'])\n",
    "print()\n",
    "print('Time to compute steady-state equilibrium is', round(ss_output['ss_time'], 6), 'seconds')"
   ]
  },
  {
   "cell_type": "markdown",
   "metadata": {},
   "source": [
    "##### b. generate figure "
   ]
  },
  {
   "cell_type": "code",
   "execution_count": 168,
   "metadata": {},
   "outputs": [
    {
     "data": {
      "image/png": "[encoded data removed]",
      "text/plain": [
       "<matplotlib.figure.Figure at 0x1dc63c91320>"
      ]
     },
     "metadata": {},
     "output_type": "display_data"
    },
    {
     "data": {
      "text/plain": [
       "{'C_ss': 0.6329006729395864,\n",
       " 'EulErr_ss': array([-1.39266376e-12,  2.62900812e-12]),\n",
       " 'K_ss': 0.07772362575316386,\n",
       " 'RCerr_ss': 8.326672684688674e-17,\n",
       " 'Y_ss': 0.6827603788602411,\n",
       " 'b_ss': array([0.01931253, 0.0584111 ]),\n",
       " 'c_ss': array([0.18241213, 0.20961468, 0.24087387]),\n",
       " 'r_ss': 2.433062339127069,\n",
       " 'ss_time': 0.0015887999998085434,\n",
       " 'w_ss': 0.20172465739052575}"
      ]
     },
     "execution_count": 168,
     "metadata": {},
     "output_type": "execute_result"
    }
   ],
   "source": [
    "get_SS(params, bvec_guess, True)"
   ]
  },
  {
   "cell_type": "markdown",
   "metadata": {},
   "source": [
    "#### c. larger beta"
   ]
  },
  {
   "cell_type": "code",
   "execution_count": 169,
   "metadata": {},
   "outputs": [
    {
     "name": "stdout",
     "output_type": "stream",
     "text": [
      "Steady-state equilibrium values for savings are [0.02817692 0.07686545] compared with previous [0.01931253 0.0584111 ]\n",
      "Steady-state equilibrium values for consumptions are [0.19597528 0.22861594 0.26669307] compared with previous [0.18241213 0.20961468 0.24087387]\n",
      "Steady-state equilibrium value for wage is 0.22415219593446706 compared with previous 0.20172465739052575\n",
      "Steady-state equilibrium value for interest rate is 1.8863765057189819 compared with previous 2.433062339127069\n"
     ]
    }
   ],
   "source": [
    "params2 = [0.55, sigma, labor, labor.sum(), A, alpha, delta, SS_tol]\n",
    "ss_output2 = get_SS(params2, bvec_guess)\n",
    "print('Steady-state equilibrium values for savings are',\n",
    "      ss_output2['b_ss'], 'compared with previous', ss_output['b_ss'])\n",
    "print('Steady-state equilibrium values for consumptions are',\n",
    "      ss_output2['c_ss'], 'compared with previous', ss_output['c_ss'])\n",
    "print('Steady-state equilibrium value for wage is',ss_output2['w_ss'],\n",
    "      'compared with previous', ss_output['w_ss'])\n",
    "print('Steady-state equilibrium value for interest rate is',ss_output2['r_ss'], \n",
    "      'compared with previous', ss_output['r_ss'])"
   ]
  },
  {
   "cell_type": "code",
   "execution_count": 170,
   "metadata": {},
   "outputs": [
    {
     "data": {
      "image/png": "[encoded data removed]",
      "text/plain": [
       "<matplotlib.figure.Figure at 0x1dc63bd9da0>"
      ]
     },
     "metadata": {},
     "output_type": "display_data"
    },
    {
     "data": {
      "text/plain": [
       "{'C_ss': 0.6912842903551526,\n",
       " 'EulErr_ss': array([6.87805368e-12, 2.52953214e-12]),\n",
       " 'K_ss': 0.1050423702259807,\n",
       " 'RCerr_ss': 9.71445146547012e-17,\n",
       " 'Y_ss': 0.7586689708551193,\n",
       " 'b_ss': array([0.02817692, 0.07686545]),\n",
       " 'c_ss': array([0.19597528, 0.22861594, 0.26669307]),\n",
       " 'r_ss': 1.8863765057189819,\n",
       " 'ss_time': 0.003394999999727588,\n",
       " 'w_ss': 0.22415219593446706}"
      ]
     },
     "execution_count": 170,
     "metadata": {},
     "output_type": "execute_result"
    }
   ],
   "source": [
    "get_SS(params2, bvec_guess, True)"
   ]
  },
  {
   "cell_type": "markdown",
   "metadata": {},
   "source": [
    "For the new steady-state values, wage, saving and consumption increase, while the interest rate decreases."
   ]
  },
  {
   "cell_type": "markdown",
   "metadata": {},
   "source": [
    "Intuition: people save more given the same interest rate as the beta is larger. The interest rate decreases so that people are indifferent to saving and consuming. More savings lead to more firm capital, larger marginal productivity of labor, and higher wage. Thus, people consume more."
   ]
  },
  {
   "cell_type": "markdown",
   "metadata": {},
   "source": [
    "#### Ex 2.3"
   ]
  },
  {
   "cell_type": "markdown",
   "metadata": {},
   "source": [
    "##### a."
   ]
  },
  {
   "cell_type": "code",
   "execution_count": 171,
   "metadata": {
    "collapsed": true
   },
   "outputs": [],
   "source": [
    "def timepath(K_path_update, K_init, K_ss, T, A, alpha, delta, labor, m, Type):\n",
    "    path = np.zeros([T + m, 4])\n",
    "    period_path  = np.arange(1, T + m +1)\n",
    "    if Type == \"linear\":\n",
    "        K_path = np.linspace(K_init, K_ss, num = T)\n",
    "    if Type == \"update\":\n",
    "        K_path = K_path_update\n",
    "    path[: , 0] = period_path\n",
    "    path[: -m, 1] = K_path\n",
    "    path[-m: , 1] = K_ss\n",
    "    path[: , 2] = get_w(path[: , 1], labor.sum(), alpha, A)\n",
    "    path[: , 3] = get_r(path[: , 1], labor.sum(), alpha, delta, A)\n",
    "    return path"
   ]
  },
  {
   "cell_type": "code",
   "execution_count": 172,
   "metadata": {
    "collapsed": true
   },
   "outputs": [],
   "source": [
    "def EulErr(bvec, *args):\n",
    "    w1, w2, w3, r2, r3, beta, alpha, delta, sigma, A, labor = args\n",
    "    b2, b3 = bvec\n",
    "    L = labor.sum()\n",
    "    K = get_K(b2, b3)\n",
    "    c1 = get_cons(0, b2, labor[0], r2, w1)\n",
    "    c2 = get_cons(b2, b3, labor[1], r2, w2)\n",
    "    c3 = get_cons(b3, 0, labor[2], r3, w3)\n",
    "    MU1 = get_MU(c1)\n",
    "    MU2 = get_MU(c2)\n",
    "    MU3 = get_MU(c3)\n",
    "    Eul1 = MU1 - beta*(1+r2) * MU2\n",
    "    Eul2 = MU2 - beta*(1+r3) * MU3\n",
    "    Euler_errs = np.array([Eul1, Eul2])\n",
    "    return Euler_errs"
   ]
  },
  {
   "cell_type": "code",
   "execution_count": 173,
   "metadata": {
    "collapsed": true
   },
   "outputs": [],
   "source": [
    "def solve_path(path, *args):\n",
    "    bvec_init_val, T, m, beta, alpha, delta, sigma, A, labor, bvec_ss = args\n",
    "    b_mat = np.zeros([T + m, 3])\n",
    "    b_mat[0, 0:-1] = bvec_init_val\n",
    "    def get_b32(b32, *args):\n",
    "        r2, r3, b21, w2, w3, beta, sigma, labor = args\n",
    "        c2  = get_cons(b21, b32, labor[1], r2, w2)\n",
    "        c3  = get_cons(b32, 0, labor[2], r3, w3)\n",
    "        MU2 = get_MU(c2)\n",
    "        MU3 = get_MU(c3)\n",
    "        error =  MU2 - beta * (1 + r3) * MU3\n",
    "        return error\n",
    "    b32_init = 0.1\n",
    "    b32_args  = (path[0 , 3], path[1 , 3], b_mat[0 , 0], path[0 , 2], path[1 , 2], beta, sigma, labor)\n",
    "    b32 = opt.root(get_b32, b32_init, args = (b32_args))\n",
    "    b32 = b32.x\n",
    "    b_mat[1 , 1] = b32\n",
    "    for i in range(path.shape[0]-2):\n",
    "        w1 = path[i - 1 , 2]\n",
    "        w2 = path[i , 2]\n",
    "        w3 = path[i + 1 , 2]\n",
    "        r2 = path[i , 3]\n",
    "        r3 = path[i + 1, 3]\n",
    "        ts_args = (w1, w2, w3, r2, r3, beta, alpha, delta, sigma, A, labor)\n",
    "        bvec_ts = opt.root(EulErr, bvec_init, args = (ts_args))\n",
    "        b_mat[i , 0] = bvec_ts.x[0]\n",
    "        b_mat[i + 1, 1] = bvec_ts.x[1]\n",
    "    b_mat[: , 2] = b_mat[: , 0] + b_mat[: , 1]\n",
    "    return b_mat"
   ]
  },
  {
   "cell_type": "code",
   "execution_count": 174,
   "metadata": {
    "collapsed": true
   },
   "outputs": [],
   "source": [
    "def TPI(path_init, xival, tol, *args):\n",
    "    bvec_init, T, m, beta, alpha, delta, sigma, A, labor, bvec_ss, K_ss = args\n",
    "    b_mat = np.zeros([T + m, 3])\n",
    "    b_mat[0, 0:-1] = bvec_init\n",
    "    b_HH_init  = solve_path(path_init, bvec_init, T, m, beta, alpha, delta, sigma, A, labor, bvec_ss)\n",
    "    diff_init = sum(((path_init[: -m, 1] - b_HH_init[: -m, 2])/path_init[: -m, 1])**2)\n",
    "    if diff_init > tol:\n",
    "        '''\n",
    "        if the initial epsilon is larger than the tolerance\n",
    "        we update the time path and calculated time path and recalculate the epsilon\n",
    "        '''\n",
    "        path = path_init\n",
    "        b_HH = b_HH_init\n",
    "        diff = diff_init\n",
    "        iter_num = 0\n",
    "        while diff > tol:\n",
    "            update = xival * b_HH[: -m, 2] + (1 - xival) * path[: -m, 1]\n",
    "            path = timepath(update, 0, K_ss, T, A, alpha, delta, labor, m, \"update\")\n",
    "            b_HH = solve_path(path, bvec_init, T, m, beta, alpha, delta, sigma, A, labor, bvec_ss)\n",
    "            diff = sum(((path[: -m, 1] - b_HH[: -m, 2])/path[: -m, 1])**2)\n",
    "            iter_num = iter_num + 1\n",
    "            print(\"iteration: \", iter_num, \"       difference: \", diff)\n",
    "\n",
    "        result = (path, b_HH)\n",
    "    else:\n",
    "        result =  (path_init, b_HH_init)\n",
    "    return result"
   ]
  },
  {
   "cell_type": "code",
   "execution_count": 175,
   "metadata": {
    "collapsed": true
   },
   "outputs": [],
   "source": [
    "xival = 0.1\n",
    "tol = 1e-9\n",
    "bvec_init = np.array([0.8 * ss_output['b_ss'][0], 1.1 * ss_output['b_ss'][1]])\n",
    "T = 25\n",
    "m = 25\n",
    "bvec_ss = ss_output['b_ss']\n",
    "K_ss = ss_output['K_ss']\n",
    "K_init = bvec_init.sum()\n",
    "path_init = timepath(0, K_init, K_ss, T, A, alpha, delta, labor, m, \"linear\")"
   ]
  },
  {
   "cell_type": "code",
   "execution_count": 176,
   "metadata": {},
   "outputs": [
    {
     "name": "stdout",
     "output_type": "stream",
     "text": [
      "iteration:  1        difference:  0.0026923268543442274\n",
      "iteration:  2        difference:  0.002157561740107381\n",
      "iteration:  3        difference:  0.0017408174700849334\n",
      "iteration:  4        difference:  0.0014142121894262733\n",
      "iteration:  5        difference:  0.001156736568482737\n",
      "iteration:  6        difference:  0.0009525098783005804\n",
      "iteration:  7        difference:  0.0007894893845593586\n",
      "iteration:  8        difference:  0.0006585123205853978\n",
      "iteration:  9        difference:  0.0005525827671266743\n",
      "iteration:  10        difference:  0.00046633946890379505\n",
      "iteration:  11        difference:  0.0003956577161222008\n",
      "iteration:  12        difference:  0.0003373508229514696\n",
      "iteration:  13        difference:  0.00028894577394323863\n",
      "iteration:  14        difference:  0.00024851422573664284\n",
      "iteration:  15        difference:  0.0002145449103690303\n",
      "iteration:  16        difference:  0.00018584706684335225\n",
      "iteration:  17        difference:  0.00016147717292832263\n",
      "iteration:  18        difference:  0.00014068320855806213\n",
      "iteration:  19        difference:  0.00012286213677220698\n",
      "iteration:  20        difference:  0.0001075273701614944\n",
      "iteration:  21        difference:  9.428379719245105e-05\n",
      "iteration:  22        difference:  8.28085448380036e-05\n",
      "iteration:  23        difference:  7.283610417524054e-05\n",
      "iteration:  24        difference:  6.414678284723912e-05\n",
      "iteration:  25        difference:  5.65577012742489e-05\n",
      "iteration:  26        difference:  4.991573957980048e-05\n",
      "iteration:  27        difference:  4.4091985228721315e-05\n",
      "iteration:  28        difference:  3.897733917176137e-05\n",
      "iteration:  29        difference:  3.447901966296625e-05\n",
      "iteration:  30        difference:  3.051776444217367e-05\n",
      "iteration:  31        difference:  2.702557857689798e-05\n",
      "iteration:  32        difference:  2.3943910620540024e-05\n",
      "iteration:  33        difference:  2.12221666312472e-05\n",
      "iteration:  34        difference:  1.881649208204488e-05\n",
      "iteration:  35        difference:  1.6688767338010566e-05\n",
      "iteration:  36        difference:  1.480577435376483e-05\n",
      "iteration:  37        difference:  1.3138501438913175e-05\n",
      "iteration:  38        difference:  1.1661560017667987e-05\n",
      "iteration:  39        difference:  1.0352692775965216e-05\n",
      "iteration:  40        difference:  9.192356826203092e-06\n",
      "iteration:  41        difference:  8.163368815613713e-06\n",
      "iteration:  42        difference:  7.250601478251738e-06\n",
      "iteration:  43        difference:  6.440723149559849e-06\n",
      "iteration:  44        difference:  5.721973353396611e-06\n",
      "iteration:  45        difference:  5.083968830948763e-06\n",
      "iteration:  46        difference:  4.517535383462988e-06\n",
      "iteration:  47        difference:  4.014561702758517e-06\n",
      "iteration:  48        difference:  3.5678720086401298e-06\n",
      "iteration:  49        difference:  3.1711148343477827e-06\n",
      "iteration:  50        difference:  2.8186657258534216e-06\n",
      "iteration:  51        difference:  2.5055419683409936e-06\n",
      "iteration:  52        difference:  2.2273277392527104e-06\n",
      "iteration:  53        difference:  1.9801083239255145e-06\n",
      "iteration:  54        difference:  1.76041222695359e-06\n",
      "iteration:  55        difference:  1.5651601770542873e-06\n",
      "iteration:  56        difference:  1.3916201619570785e-06\n",
      "iteration:  57        difference:  1.2373677467762825e-06\n",
      "iteration:  58        difference:  1.100251028816298e-06\n",
      "iteration:  59        difference:  9.783596664070013e-07\n",
      "iteration:  60        difference:  8.699974918792644e-07\n",
      "iteration:  61        difference:  7.736582810510119e-07\n",
      "iteration:  62        difference:  6.880043052502307e-07\n",
      "iteration:  63        difference:  6.118473382712213e-07\n",
      "iteration:  64        difference:  5.441318308668659e-07\n",
      "iteration:  65        difference:  4.839200003034153e-07\n",
      "iteration:  66        difference:  4.3037861293073824e-07\n",
      "iteration:  67        difference:  3.8276726427261613e-07\n",
      "iteration:  68        difference:  3.404279843456201e-07\n",
      "iteration:  69        difference:  3.0277601625667027e-07\n",
      "iteration:  70        difference:  2.6929163393313744e-07\n",
      "iteration:  71        difference:  2.395128805329708e-07\n",
      "iteration:  72        difference:  2.1302912280854632e-07\n",
      "iteration:  73        difference:  1.894753288383763e-07\n",
      "iteration:  74        difference:  1.6852698721282602e-07\n",
      "iteration:  75        difference:  1.4989559515898871e-07\n",
      "iteration:  76        difference:  1.3332465140448104e-07\n",
      "iteration:  77        difference:  1.1858609691484845e-07\n",
      "iteration:  78        difference:  1.0547715310907011e-07\n",
      "iteration:  79        difference:  9.381751289492157e-08\n",
      "iteration:  80        difference:  8.34468449238792e-08\n",
      "iteration:  81        difference:  7.422257595751185e-08\n",
      "iteration:  82        difference:  6.601792019537472e-08\n",
      "iteration:  83        difference:  5.872012793501833e-08\n",
      "iteration:  84        difference:  5.2228929048636775e-08\n",
      "iteration:  85        difference:  4.645514951362178e-08\n",
      "iteration:  86        difference:  4.1319481685239244e-08\n",
      "iteration:  87        difference:  3.675139116421054e-08\n",
      "iteration:  88        difference:  3.2688145035057024e-08\n",
      "iteration:  89        difference:  2.907394795823498e-08\n",
      "iteration:  90        difference:  2.585917410645057e-08\n",
      "iteration:  91        difference:  2.299968428672296e-08\n",
      "iteration:  92        difference:  2.0456218770635745e-08\n",
      "iteration:  93        difference:  1.819385742154779e-08\n",
      "iteration:  94        difference:  1.618153964096433e-08\n",
      "iteration:  95        difference:  1.4391637491447054e-08\n",
      "iteration:  96        difference:  1.2799576092719948e-08\n",
      "iteration:  97        difference:  1.138349604741816e-08\n",
      "iteration:  98        difference:  1.0123953231921188e-08\n",
      "iteration:  99        difference:  9.00365181096934e-09\n",
      "iteration:  100        difference:  8.007206792966252e-09\n",
      "iteration:  101        difference:  7.1209328514685655e-09\n",
      "iteration:  102        difference:  6.332656504358182e-09\n",
      "iteration:  103        difference:  5.631549062774662e-09\n",
      "iteration:  104        difference:  5.0079780507862076e-09\n",
      "iteration:  105        difference:  4.453375050053263e-09\n",
      "iteration:  106        difference:  3.960118153655391e-09\n",
      "iteration:  107        difference:  3.5214274099581547e-09\n",
      "iteration:  108        difference:  3.1312718221013724e-09\n",
      "iteration:  109        difference:  2.784286622578793e-09\n",
      "iteration:  110        difference:  2.4756996890421746e-09\n",
      "iteration:  111        difference:  2.201266088375618e-09\n",
      "iteration:  112        difference:  1.957209851793977e-09\n",
      "iteration:  113        difference:  1.7401721815067393e-09\n",
      "iteration:  114        difference:  1.547165377699617e-09\n",
      "iteration:  115        difference:  1.3755318542588325e-09\n",
      "iteration:  116        difference:  1.2229076803802945e-09\n",
      "iteration:  117        difference:  1.0871901486875424e-09\n",
      "iteration:  118        difference:  9.665089246193953e-10\n"
     ]
    }
   ],
   "source": [
    "path = TPI(path_init, xival, tol,  bvec_init, T, m, beta, alpha, delta, sigma, A, labor, bvec_ss, K_ss)\n"
   ]
  },
  {
   "cell_type": "code",
   "execution_count": 177,
   "metadata": {
    "collapsed": true
   },
   "outputs": [],
   "source": [
    "K_path = path[0][:, [0 , 1]]\n",
    "w_path = path[0][:, [0 , 2]]\n",
    "r_path = path[0][:, [0 , 3]]\n",
    "b_path = path[1][:,:2]"
   ]
  },
  {
   "cell_type": "code",
   "execution_count": 178,
   "metadata": {
    "collapsed": true
   },
   "outputs": [],
   "source": [
    "Eulerr_path = np.zeros((30, 2))\n",
    "RCerr_path = np.zeros(30)\n",
    "for i in range(30):\n",
    "    if i == 0:\n",
    "        rt = rt1 = r_path[0,1]\n",
    "        wt = wt1 = w_path[0,1]\n",
    "        b2t = b2t1 = b_path[0, 0]\n",
    "        b3t = b3t1 = b_path[0, 1]\n",
    "    else:\n",
    "        rt, rt1 = r_path[i, 1], r_path[i-1, 1]\n",
    "        b2t, b3t = b_path[i,:]\n",
    "        b2t1, b3t1 = b_path[i-1, :]\n",
    "        wt, wt1 = w_path[i,1], w_path[i-1, 1]\n",
    "    Kt = K_path[i,1]\n",
    "    Kt_1 = K_path[i+1, 1]\n",
    "    Yt = get_Y(Kt, labor.sum(), alpha, A)\n",
    "    c1t = get_cons(0, b2t, labor[0], rt, wt)\n",
    "    c2t = get_cons(b2t1, b3t, labor[1], rt1, wt)\n",
    "    c3t = get_cons(b3t1, 0, labor[2], rt1, wt)\n",
    "    Ct = c1t + c2t + c3t\n",
    "    RCerr_path[i] = Yt - Ct - Kt_1 + (1 - delta) * Kt\n",
    "    Eulerr_path[i, :] = EulErr(b_path[i, :], w_path[i,1], w_path[i+1,1], \n",
    "                               w_path[i+2,1], r_path[i+1,1], r_path[i+2,1], \n",
    "                               beta, alpha, delta, sigma, A, labor)"
   ]
  },
  {
   "cell_type": "code",
   "execution_count": 179,
   "metadata": {},
   "outputs": [
    {
     "name": "stdout",
     "output_type": "stream",
     "text": [
      "Maximum of the absolute values of all the Euler errors across the entire time path is 37.40392775466471\n",
      "Maximum of the absolute values of all the resource constraint errors across the entire time path is 0.005773427692391937\n"
     ]
    }
   ],
   "source": [
    "print('Maximum of the absolute values of all the Euler errors across the entire time path is', \n",
    "      np.abs(Eulerr_path).max())\n",
    "print('Maximum of the absolute values of all the resource constraint errors across the entire time path is', \n",
    "      np.abs(RCerr_path).max())"
   ]
  },
  {
   "cell_type": "markdown",
   "metadata": {},
   "source": [
    "##### b. "
   ]
  },
  {
   "cell_type": "code",
   "execution_count": 180,
   "metadata": {},
   "outputs": [
    {
     "data": {
      "image/png": "[encoded data removed]",
      "text/plain": [
       "<matplotlib.figure.Figure at 0x1dc63e60240>"
      ]
     },
     "metadata": {},
     "output_type": "display_data"
    }
   ],
   "source": [
    "K_fig = plt.figure()\n",
    "plt.plot(K_path[: , 0], K_path[: , 1])\n",
    "plt.xlabel('periods')\n",
    "plt.ylabel('aggregate capital stock')\n",
    "plt.title('Time path of aggregate capital stock')\n",
    "plt.show()"
   ]
  },
  {
   "cell_type": "code",
   "execution_count": 181,
   "metadata": {},
   "outputs": [
    {
     "data": {
      "image/png": "[encoded data removed]",
      "text/plain": [
       "<matplotlib.figure.Figure at 0x1dc63c644a8>"
      ]
     },
     "metadata": {},
     "output_type": "display_data"
    }
   ],
   "source": [
    "w_fig = plt.figure()\n",
    "plt.plot(w_path[: , 0], w_path[: , 1])\n",
    "plt.xlabel('periods')\n",
    "plt.ylabel('wage')\n",
    "plt.title('Time path of wage')\n",
    "plt.show()"
   ]
  },
  {
   "cell_type": "code",
   "execution_count": 182,
   "metadata": {},
   "outputs": [
    {
     "data": {
      "image/png": "[encoded data removed]",
      "text/plain": [
       "<matplotlib.figure.Figure at 0x1dc62ae4470>"
      ]
     },
     "metadata": {},
     "output_type": "display_data"
    }
   ],
   "source": [
    "r_fig = plt.figure()\n",
    "plt.plot(r_path[: , 0], r_path[: , 1])\n",
    "plt.xlabel('periods')\n",
    "plt.ylabel('interest rate')\n",
    "plt.title('Time path of interest rate')\n",
    "plt.show()"
   ]
  },
  {
   "cell_type": "markdown",
   "metadata": {},
   "source": [
    "##### c."
   ]
  },
  {
   "cell_type": "code",
   "execution_count": 183,
   "metadata": {},
   "outputs": [
    {
     "name": "stdout",
     "output_type": "stream",
     "text": [
      "Time to get within 0.00001 of the steady-state aggregate capital stock: 13 periods \n"
     ]
    }
   ],
   "source": [
    "for i in range(50):\n",
    "    K = K_path[i, 1]\n",
    "    if abs(K - K_ss) <= 0.00001:\n",
    "        print('Time to get within 0.00001 of the steady-state aggregate capital stock: {} periods '.format(int(K_path[i, 0])))\n",
    "        break"
   ]
  },
  {
   "cell_type": "code",
   "execution_count": 184,
   "metadata": {},
   "outputs": [
    {
     "name": "stdout",
     "output_type": "stream",
     "text": [
      " After period 13, the aggregate capital stock never is again farther than 0.00001 away from the steady-state.\n"
     ]
    }
   ],
   "source": [
    "for i in range(50):\n",
    "    K_mat = K_path[i:, 1]\n",
    "    Diff = np.abs(K_mat - K_ss)\n",
    "    if np.sum(Diff > 0.00001) == 0:\n",
    "        print(\" After period {}, the aggregate capital stock never is again farther than 0.00001 away from the steady-state.\".format(int(K_path[i, 0])))\n",
    "        break"
   ]
  }
 ],
 "metadata": {
  "kernelspec": {
   "display_name": "Python 3",
   "language": "python",
   "name": "python3"
  },
  "language_info": {
   "codemirror_mode": {
    "name": "ipython",
    "version": 3
   },
   "file_extension": ".py",
   "mimetype": "text/x-python",
   "name": "python",
   "nbconvert_exporter": "python",
   "pygments_lexer": "ipython3",
   "version": "3.6.7"
  }
 },
 "nbformat": 4,
 "nbformat_minor": 2
}
